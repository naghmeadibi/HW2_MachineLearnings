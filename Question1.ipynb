{
  "cells": [
    {
      "cell_type": "markdown",
      "metadata": {
        "id": "view-in-github",
        "colab_type": "text"
      },
      "source": [
        "<a href=\"https://colab.research.google.com/github/naghmeadibi/HW2_MachineLearnings/blob/main/Question1.ipynb\" target=\"_parent\"><img src=\"https://colab.research.google.com/assets/colab-badge.svg\" alt=\"Open In Colab\"/></a>"
      ]
    },
    {
      "cell_type": "markdown",
      "metadata": {
        "id": "p03hoMY_KC5B"
      },
      "source": [
        "<h1 align=\"center\">An Introduction to Machine Learning - 25737</h1>\n",
        "<h4 align=\"center\">Dr. Sajjad Amini</h4>\n",
        "<h4 align=\"center\">Sharif University of Technology, Spring 2023</h4>\n",
        "\n",
        "**Student Name**: Naghmeh Adibi\n",
        "\n",
        "**Student ID**: 99101076\n",
        "\n",
        "# Linear Regression\n",
        "\n",
        "In this exercise, we want to examine **linear regression**. For this purpose, we have prepared a dataset in the `q1.csv` file. This dataset is used to estimate the **heating load** and **cooling load** of a building based on its parameters. The parameters in this dataset are explained below:\n",
        "\n",
        "- $X_1$: Relative Compactness\n",
        "- $X_2$: Surface Area\n",
        "- $X_3$: Wall Area\n",
        "- $X_4$: Roof Area\n",
        "- $X_5$: Overall Height\n",
        "- $X_6$: Orientation\n",
        "- $X_7$: Glazing Area\n",
        "- $X_8$: Glazing Area Distribution\n",
        "- $Y_1$: Heating Load\n",
        "- $Y_2$: Cooling Load\n",
        "\n",
        "**Note**: For the sake of simplicity, we will only focus on estimating the **heating load** in this problem. Also, please note that we have some inline questions in this notebook, for which you should write your answers in the **Answer** section below each question."
      ]
    },
    {
      "cell_type": "markdown",
      "metadata": {
        "id": "P6_GSec1OXRM"
      },
      "source": [
        "## Importing Libraries\n",
        "\n",
        "First we import libraries that we need for this assignment.\n",
        "\n",
        "**Attention**: You should only use these libraries. Other libraries are not acceptable."
      ]
    },
    {
      "cell_type": "code",
      "execution_count": 13,
      "metadata": {
        "id": "5u7kqX0wONrr"
      },
      "outputs": [],
      "source": [
        "import numpy as np\n",
        "import pandas as pd\n",
        "import matplotlib.pyplot as plt"
      ]
    },
    {
      "cell_type": "markdown",
      "metadata": {
        "id": "9he9c_YvMqAL"
      },
      "source": [
        "## Reading Data and Preprocessing\n",
        "\n",
        "In this section, we want to read data from a CSV file and then preprocess it to make it ready for the rest of the problem.\n",
        "\n",
        "First, we read the data in the cell below and extract an $m \\times n$ matrix, $X$, and an $m \\times 1$ vector, $Y$, from it, which represent our knowledge about the building (`X1`, `X2`, ..., `X8`) and heating load (`Y1`), respectively. Note that by $m$, we mean the number of data points and by $n$, we mean the number of features."
      ]
    },
    {
      "cell_type": "code",
      "execution_count": 14,
      "metadata": {
        "id": "bV10SRSaJ_DJ",
        "colab": {
          "base_uri": "https://localhost:8080/"
        },
        "outputId": "71e6cbd8-5b93-4ef1-b5c2-116c786aa453"
      },
      "outputs": [
        {
          "output_type": "stream",
          "name": "stdout",
          "text": [
            "(768, 8)\n",
            "(768, 1)\n"
          ]
        }
      ],
      "source": [
        "X, Y = None, None\n",
        "\n",
        "### START CODE HERE ###\n",
        "data = pd.read_csv('q1.csv', delimiter=',')\n",
        "data = data.to_numpy()\n",
        "\n",
        "X = data[:, :8]\n",
        "Y = data[:, 8:9]\n",
        "\n",
        "### END CODE HERE ###\n",
        "\n",
        "print(X.shape)\n",
        "print(Y.shape)"
      ]
    },
    {
      "cell_type": "markdown",
      "source": [],
      "metadata": {
        "id": "p5xk-KPkxT3P"
      }
    },
    {
      "cell_type": "markdown",
      "metadata": {
        "id": "EkZeww-2OAuX"
      },
      "source": [
        "Next, we should normalize our data. For normalizing a vector $\\mathbf{x}$, a very common method is to use this formula:\n",
        "\n",
        "$$\n",
        "\\mathbf{x}_{norm} = \\dfrac{\\mathbf{x} - \\overline{\\mathbf{x}}}{\\sigma_\\mathbf{x}}\n",
        "$$\n",
        "\n",
        "Here, $\\overline{x}$ and $\\sigma_\\mathbf{x}$ denote the mean and standard deviation of vector $\\mathbf{x}$, respectively. Use this formula and store the new $X$ and $Y$ vectors in the cell below.\n",
        "\n",
        "**Question**: Briefly explain why we need to normalize our data before starting the training.\n",
        "\n",
        "**Answer**:Logistic regression requires normalization as well in order to avoid the vanishing gradient problem during the training phase. If you train a linear regression without previous normalization, you can't use the coefficients as indicators of feature importance."
      ]
    },
    {
      "cell_type": "code",
      "execution_count": 15,
      "metadata": {
        "id": "Y2i0bjxUPak2"
      },
      "outputs": [],
      "source": [
        "### START CODE HERE ###\n",
        "Xmean = np.mean(X, axis = 0)\n",
        "Xstd = np.std(X, axis = 0)\n",
        "X = (X-Xmean)/Xstd\n",
        "Ymean = np.mean(Y, axis = 0)\n",
        "Ystd = np.std(Y, axis = 0)\n",
        "Y = (Y-Ymean)/Ystd\n",
        "\n",
        "### END CODE HERE ###"
      ]
    },
    {
      "cell_type": "markdown",
      "metadata": {
        "id": "mvmHQ-mxQzDE"
      },
      "source": [
        "Finally, we should add a column of $1$s at the beginning of $X$ to represent the bias term. Do this in the next cell. Note that after this process, $X$ should be an $m \\times (n+1)$ matrix."
      ]
    },
    {
      "cell_type": "code",
      "execution_count": 16,
      "metadata": {
        "id": "QLfV7VQNRCfF",
        "colab": {
          "base_uri": "https://localhost:8080/"
        },
        "outputId": "2dacb031-dec8-4fd3-e739-f8b4bfb08c63"
      },
      "outputs": [
        {
          "output_type": "stream",
          "name": "stdout",
          "text": [
            "(768, 9)\n"
          ]
        }
      ],
      "source": [
        "### START CODE HERE ###\n",
        "\n",
        "X = np.append(np.ones((768,1)), X, axis = 1)\n",
        "\n",
        "### END CODE HERE ###\n",
        "\n",
        "print(X.shape)"
      ]
    },
    {
      "cell_type": "markdown",
      "metadata": {
        "id": "nO--dppbRsdb"
      },
      "source": [
        "## Training Model Using Direct Method\n",
        "\n",
        "We know that the loss function in linear regression is defined as:\n",
        "\n",
        "$$\n",
        "\\mathcal{L}(\\mathbf{w}) = \\frac{1}{m}\\sum_{i=1}^{m}(\\mathbf{w}^\\top\\mathbf{x}_i-y_i)^2\n",
        "$$\n",
        "\n",
        "Here, $w$ is the weight vector and $(x_i, y_i)$ represents the $i$th data point. First, write a function that takes $X$, $Y$, and $w$ as inputs and returns the loss value in the next cell. Note that your implementation should be fully vectorized, meaning that you are not allowed to use any loops in your function and should only use functions prepared in the numpy library."
      ]
    },
    {
      "cell_type": "code",
      "execution_count": 17,
      "metadata": {
        "id": "bSbXtyXCRzD3"
      },
      "outputs": [],
      "source": [
        "def loss(X, Y, w):\n",
        "  '''\n",
        "  X: an m by (n+1) matrix which includes inputs\n",
        "  Y: an m by 1 vector which includes heating loads\n",
        "  w: an (n+1) by 1 weight vector\n",
        "  '''\n",
        "  m, n = X.shape\n",
        "  loss = None\n",
        "  ### START CODE HERE ###\n",
        "  wt = np.transpose(w)\n",
        "  Xt = np.transpose(X)\n",
        "  vec = np.matmul(wt, Xt) - np.transpose(Y)\n",
        "  vec = np.power(vec, 2)\n",
        "  loss = np.sum(vec) / m\n",
        "  ### END CODE HERE ###\n",
        "  return loss"
      ]
    },
    {
      "cell_type": "markdown",
      "metadata": {
        "id": "VuhSB9zaTfwm"
      },
      "source": [
        "Now, we want to calculate the weight matrix, $w$, using the direct method. By direct method, we mean finding the answer to the optimization problem below directly using linear algebra, without using iterative methods:\n",
        "\n",
        "$$\n",
        "\\min_{w} \\mathcal{L}(w)\n",
        "$$\n",
        "\n",
        "Question: What is the answer to this problem in terms of $X$ and $Y$?\n",
        "\n",
        "Answer:\n",
        "\n",
        "$\n",
        "w = (X^{T}X)^{-1}X^{T}Y\n",
        "$\n",
        "\n",
        "this equation is fully explained in lexture slides.\n",
        "\n",
        "Now you should implement a function that receives $X$ and $Y$ as input and returns $w$. Note that your implementation should also be fully vectorized."
      ]
    },
    {
      "cell_type": "code",
      "execution_count": 18,
      "metadata": {
        "id": "-gCUK01DT-cW"
      },
      "outputs": [],
      "source": [
        "def direct_method(X, Y):\n",
        "  '''\n",
        "  X: an m by (n+1) matrix which includes inputs\n",
        "  Y: an m by 1 vector which includes heating loads\n",
        "  '''\n",
        "  w = None\n",
        "  ### START CODE HERE ###\n",
        "  Xt = np.transpose(X)\n",
        "  w = np.matmul(Xt ,X)\n",
        "  w = np.linalg.inv(w)\n",
        "  w = np.matmul(w, Xt)\n",
        "  w = np.matmul(w, Y)\n",
        "  ### END CODE HERE ###\n",
        "  return w"
      ]
    },
    {
      "cell_type": "markdown",
      "metadata": {
        "id": "thFIeOaSUvlw"
      },
      "source": [
        "Finally, we want to evaluate our loss for this problem. Run the cell below to calculate the loss of your model."
      ]
    },
    {
      "cell_type": "code",
      "execution_count": 19,
      "metadata": {
        "id": "6gGDh11VU8vF",
        "colab": {
          "base_uri": "https://localhost:8080/"
        },
        "outputId": "ec7d1cee-af71-4dd6-a4c8-df8848b6c906"
      },
      "outputs": [
        {
          "output_type": "stream",
          "name": "stdout",
          "text": [
            "loss for this problem using direct method is 0.08907195587073148\n"
          ]
        }
      ],
      "source": [
        "w = direct_method(X, Y) # calculating w using direct method\n",
        "print(f\"loss for this problem using direct method is {loss(X, Y, w)}\")"
      ]
    },
    {
      "cell_type": "markdown",
      "metadata": {
        "id": "QaG14YG9VXiS"
      },
      "source": [
        "## Training Model Using Gradient Descent\n",
        "\n",
        "Now, instead of using the direct method to calculate $w$, we want to use the **Gradient Descent** algorithm. We know that in this algorithm, in each iteration, we should update our weight vector with:\n",
        "\n",
        "$$\n",
        "\\mathbf{w}^{(t+1)} = \\mathbf{w}^{(t)} - \\alpha \\nabla \\mathcal{L}(\\mathbf{w}^{(t)})\n",
        "$$\n",
        "\n",
        "Here, $w^{t}$ represents the weight matrix in the $t$th iteration, and $\\alpha$ represents the learning rate.\n",
        "\n",
        "**Question**: Write an expression for $\\nabla\\mathcal{L}(\\mathbf{w})$.\n",
        "\n",
        "**Answer**:   $∇_{w}$L(w) (partial differentiation and arg vars are w array arguments)\n",
        "\n",
        "$\\nabla\\mathcal{L}(\\mathbf{w})$ = $$\n",
        "\\frac{1}{m}\\sum_{i=1}^{m}2(\\mathbf{w}^\\top\\mathbf{x}_i-y_i)[x_{i1}, x_{i2}, x_{i3}, x_{i4}, x_{i5}, x_{i6}, x_{i7}, x_{i8}, x_{i9}]\n",
        "$$\n",
        "$$\n",
        "[x_{i1}, x_{i2}, x_{i3}, x_{i4}, x_{i5}, x_{i6}, x_{i7}, x_{i8}, x_{i9}]=x_i\n",
        "$$\n",
        "\n",
        "Now, write a function that computes the gradient of $\\mathcal{L}(\\mathbf{w})$. This function should receive $X$, $Y$, and $\\mathbf{w}$ as inputs and return an $(n+1) \\times 1$ vector, which represents $\\nabla\\mathcal{L}(\\mathbf{w})$. Note that your implementation should also be **fully vectorized**."
      ]
    },
    {
      "cell_type": "code",
      "execution_count": 20,
      "metadata": {
        "id": "yqVQ-8I-VeVc"
      },
      "outputs": [],
      "source": [
        "\n",
        "def gradient(X, Y, w):\n",
        "  '''\n",
        "  X: an m by (n+1) matrix which includes inputs\n",
        "  Y: an m by 1 vector which includes heating loads\n",
        "  w: an (n+1) by 1 weight vector\n",
        "  '''\n",
        "  m, n = X.shape\n",
        "  grad = None\n",
        "  ### START CODE HERE ###\n",
        "  wt = np.transpose(w)\n",
        "  Xt = np.transpose(X)\n",
        "  vec = np.matmul(wt, Xt) - np.transpose(Y)\n",
        "  vec = np.multiply(vec, 2)\n",
        "  vec = np.multiply(vec, Xt)\n",
        "  grad = np.sum(vec, axis = 1) / m\n",
        "  grad = np.asmatrix(grad)\n",
        "  ### END CODE HERE ###\n",
        "  return grad"
      ]
    },
    {
      "cell_type": "markdown",
      "metadata": {
        "id": "TJP5KaZzXz5K"
      },
      "source": [
        "Now, we are ready to implement the Gradient Descent algorithm. Complete the function below for this purpose. Note that this function receives $X$, $Y$, the learning rate, and the number of iterations as inputs. This function should return two parameters. The first parameter is $\\mathbf{w}$, and the second parameter is a `numpy` array that contains the loss in each iteration. This array is indicated by `loss_history` in the code. Also note that you should initialize $\\mathbf{w}$ with the `randn` function."
      ]
    },
    {
      "cell_type": "code",
      "execution_count": 21,
      "metadata": {
        "id": "qdfNjz5DYgD7"
      },
      "outputs": [],
      "source": [
        "def gradient_descent(X, Y, alpha, num_iter):\n",
        "  '''\n",
        "  X: an m by (n+1) matrix which includes inputs\n",
        "  Y: an m by 1 vector which includes heating loads\n",
        "  alpha: learning rate\n",
        "  num_iter: number of iterations of the algorithm\n",
        "  '''\n",
        "  m, n = X.shape\n",
        "  w, loss_history = None, None \n",
        "  ### START CODE HERE ###\n",
        "  w = np.matrix(np.random.randn(n, 1))\n",
        "  j = loss(X, Y, w)\n",
        "  loss_history = np.array([j])\n",
        "  for o in range(num_iter):\n",
        "    grad = gradient(X, Y, w)\n",
        "    h = np.multiply(grad, -1*alpha)\n",
        "    w = np.add(w, h)\n",
        "    w = np.asmatrix(w)\n",
        "    j = loss(X, Y, w)\n",
        "    loss_history = np.append(loss_history, np.array([j]))\n",
        "  ### END CODE HERE ###\n",
        "  return w, loss_history"
      ]
    },
    {
      "cell_type": "markdown",
      "metadata": {
        "id": "CjGioRweZK9O"
      },
      "source": [
        "Now, run the `gradient_descent` function for 5 different values of the learning rate. Plot the `loss_history` of these 5 different values in the same figure.\n",
        "\n",
        "**Question**: Discuss the effect of the learning rate and find the best value of this parameter.\n",
        "\n",
        "**Answer**:Gradient descent subtracts the step size from the current value of intercept to get the new value of intercept. This step size is calculated by multiplying the derivative to a small number called the learning rate. Usually, we take the value of the learning rate to be 0.1, 0.01 or 0.001. i think 0.01 is most appropriate based on diagram. Very big values are not conservative and very small values are not fast."
      ]
    },
    {
      "cell_type": "code",
      "execution_count": 22,
      "metadata": {
        "id": "yMuwbOokZtcL",
        "colab": {
          "base_uri": "https://localhost:8080/",
          "height": 447
        },
        "outputId": "747c7b3a-eab0-4b99-b30f-c0b1f926fb52"
      },
      "outputs": [
        {
          "output_type": "stream",
          "name": "stdout",
          "text": [
            "0.09573027269153166\n"
          ]
        },
        {
          "output_type": "display_data",
          "data": {
            "text/plain": [
              "<Figure size 640x480 with 1 Axes>"
            ],
            "image/png": "[encoded data removed]"
          },
          "metadata": {}
        }
      ],
      "source": [
        "### START CODE HERE ###\n",
        "for i in range(5):\n",
        "    w, loss_history = gradient_descent(X, Y, pow(0.1, i+1), 1000)\n",
        "    plt.plot(loss_history)\n",
        "    if i == 1:\n",
        "      print(loss_history[999])   \n",
        "### END CODE HERE ###"
      ]
    },
    {
      "cell_type": "markdown",
      "metadata": {
        "id": "k-lyJhZqZ18d"
      },
      "source": [
        "## Conclusion\n",
        "\n",
        "Compare the answer of two different methods that we used earlier.\n",
        "\n",
        "**Question**: Discuss these two methods and compare them with each other. When is it better to use the direct method, and when is it better to use Gradient Descent?\n",
        "\n",
        "**Answer**: answers are similar. when the data is so big that we cant calculate w in direct method it is better to use gradient descent method.\n",
        "The main reason why gradient descent is used for linear regression is the computational complexity: it's computationally cheaper (faster) to find the solution using the gradient descent in some cases. The direct way to calculate w requires so much computation especially in a multivariate problem."
      ]
    },
    {
      "cell_type": "markdown",
      "metadata": {
        "id": "MF15dsmXaUzJ"
      },
      "source": [
        "## (Additional Part) Stochastic Gradient Descent\n",
        "\n",
        "When the number of data points becomes large, calculating the gradient becomes very complicated. In these circumstances, we use **Stochastic Gradient Descent**. In this algorithm, instead of using all of the data points to calculate the gradient, we use only a small number of them. We choose these small number of points randomly in each iteration. Implement this algorithm, and use it to calculate $w$, and then compare the result with the preceding parts."
      ]
    },
    {
      "cell_type": "code",
      "execution_count": 23,
      "metadata": {
        "id": "6cHTQFgOaQBB"
      },
      "outputs": [],
      "source": [
        "def stochastic_gradient_descent(X, Y, k, alpha, num_iter):\n",
        "  '''\n",
        "  X: an m by (n+1) matrix which includes inputs\n",
        "  Y: an m by 1 vector which includes heating loads\n",
        "  k: number of data points used in each iteration\n",
        "  alpha: learning rate\n",
        "  num_iter: number of iterations of the algorithm\n",
        "  '''\n",
        "  m, n = X.shape\n",
        "  w, loss_history = None, None \n",
        "  ### START CODE HERE ###\n",
        "  w = np.matrix(np.random.randn(n, 1))\n",
        "  j = loss(X, Y, w)\n",
        "  loss_history = np.array([j])\n",
        "  for o in range(num_iter):\n",
        "    idx = np.random.randint(m, size=k)\n",
        "    grad = gradient(X[idx, :], Y[idx, :], w)\n",
        "    h = np.multiply(grad, -1*alpha)\n",
        "    w = np.add(w, h)\n",
        "    w = np.asmatrix(w)\n",
        "    j = loss(X, Y, w)\n",
        "    loss_history = np.append(loss_history, np.array([j]))\n",
        "  ### END CODE HERE ###\n",
        "  return w, loss_history"
      ]
    },
    {
      "cell_type": "code",
      "source": [
        "### START CODE HERE ###\n",
        "for i in range(5):\n",
        "    w, loss_history = stochastic_gradient_descent(X, Y, 200, pow(0.1, i+1), 1000)\n",
        "    plt.plot(loss_history)\n",
        "    if i == 1:\n",
        "      print(loss_history[999])   \n",
        "### END CODE HERE ###"
      ],
      "metadata": {
        "colab": {
          "base_uri": "https://localhost:8080/",
          "height": 447
        },
        "id": "JoSHkI6Y18is",
        "outputId": "be19fa9f-620b-4763-ed3c-8acb9e2a1011"
      },
      "execution_count": 24,
      "outputs": [
        {
          "output_type": "stream",
          "name": "stdout",
          "text": [
            "0.10565358942717558\n"
          ]
        },
        {
          "output_type": "display_data",
          "data": {
            "text/plain": [
              "<Figure size 640x480 with 1 Axes>"
            ],
            "image/png": "[encoded data removed]"
          },
          "metadata": {}
        }
      ]
    }
  ],
  "metadata": {
    "colab": {
      "provenance": [],
      "include_colab_link": true
    },
    "kernelspec": {
      "display_name": "Python 3",
      "name": "python3"
    },
    "language_info": {
      "name": "python"
    }
  },
  "nbformat": 4,
  "nbformat_minor": 0
}