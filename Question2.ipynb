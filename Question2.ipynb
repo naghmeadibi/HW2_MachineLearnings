{
  "cells": [
    {
      "cell_type": "markdown",
      "metadata": {
        "id": "view-in-github",
        "colab_type": "text"
      },
      "source": [
        "<a href=\"https://colab.research.google.com/github/naghmeadibi/HW2_MachineLearnings/blob/main/Question2.ipynb\" target=\"_parent\"><img src=\"https://colab.research.google.com/assets/colab-badge.svg\" alt=\"Open In Colab\"/></a>"
      ]
    },
    {
      "cell_type": "markdown",
      "metadata": {
        "id": "un_07izr0mCO"
      },
      "source": [
        "<h1 align=\"center\">An Introduction to Machine Learning - 25737</h1>\n",
        "<h4 align=\"center\">Dr. Sajjad Amini</h4>\n",
        "<h4 align=\"center\">Sharif University of Technology, Spring 2023</h4>\n",
        "\n",
        "**Student Name**: Naghmeh Adibi\n",
        "\n",
        "**Student ID**: 99101076\n",
        "\n",
        "# Effect of Overfitting\n",
        "\n",
        "In this exercise, we want to examine the effect of **overfitting**. As you learned in class, using too many features in training can result in a model with very low loss on the training set but high loss on the validation and test set. For this purpose, we have prepared a dataset in the `q2-train.npy`, `q2-valid.npy`, and `q2-test.npy` files for you. We know that `y` is a polynomial function of `x` in this dataset, meaning that \n",
        "\n",
        "$$\n",
        "y = \\sum_{i=0}^{k}a_ix^i\n",
        "$$\n",
        "\n",
        "However, we do not know the exact value of `k`."
      ]
    },
    {
      "cell_type": "markdown",
      "metadata": {
        "id": "rcSNUeqT158e"
      },
      "source": [
        "## Importing Libraries\n",
        "\n",
        "First, we import the necessary libraries for this assignment. Please note that you should only use these libraries and no other libraries are acceptable."
      ]
    },
    {
      "cell_type": "code",
      "execution_count": null,
      "metadata": {
        "id": "UitW8b0J0jBa"
      },
      "outputs": [],
      "source": [
        "import numpy as np\n",
        "import matplotlib.pyplot as plt"
      ]
    },
    {
      "cell_type": "markdown",
      "metadata": {
        "id": "Q1x7BaU22F4k"
      },
      "source": [
        "## Reading Data and Preprocessing\n",
        "\n",
        "In this part of the assignment, you should read data from the `.npy` files. The data in `q2-train.npy` file is your training set and should be stored in the `X_train` and `Y_train` variables. Similarly, the data in `q2-valid.npy` file is your validation set, and the data in `q2-test.npy` file is your test set, which should be stored in `X_val`, `Y_val`, `X_test`, and `Y_test` respectively. You can use the `np.load` function to read the `.npy` files."
      ]
    },
    {
      "cell_type": "code",
      "execution_count": null,
      "metadata": {
        "id": "dDMeq10G2m0U",
        "colab": {
          "base_uri": "https://localhost:8080/"
        },
        "outputId": "6454ffb8-5424-4aac-c130-0d36dcfa8b00"
      },
      "outputs": [
        {
          "output_type": "stream",
          "name": "stdout",
          "text": [
            "(30,) (30,)\n",
            "(40,) (40,)\n",
            "(40,) (40,)\n"
          ]
        }
      ],
      "source": [
        "X_train, Y_train, X_val, Y_val, X_test, Y_test = None, None, None, None, None, None\n",
        "\n",
        "### START CODE HERE ###\n",
        "data = np.load('q2-train.npy')\n",
        "X_train, Y_train = data[:, 0], data[:, 1]\n",
        "print(X_train.shape, Y_train.shape)\n",
        "data = np.load('q2-valid.npy')\n",
        "X_val, Y_val = data[:, 0], data[:, 1]\n",
        "print(X_val.shape, Y_val.shape)\n",
        "data = np.load('q2-test.npy')\n",
        "X_test, Y_test = data[:, 0], data[:, 1]\n",
        "print(X_test.shape, Y_test.shape)\n",
        "### END CODE HERE ###"
      ]
    },
    {
      "cell_type": "markdown",
      "metadata": {
        "id": "nyXpEfEa3Gw-"
      },
      "source": [
        "To find the best value of `k`, we want to change `k` from 1 to 12 and examine its effect on the validation set, and then choose the right value of `k`. For this purpose, we need to create a matrix with columns equal to $x^0$, $x^1$, $x^2$, ..., $x^k$ for every value of `k`. You can complete the following function to do this job. The function takes an $m \\times 1$ vector `X` containing values of input `x` and returns an $m \\times (k+1)$ matrix that has the properties mentioned above."
      ]
    },
    {
      "cell_type": "code",
      "execution_count": null,
      "metadata": {
        "id": "DXw2tPO84Ksp"
      },
      "outputs": [],
      "source": [
        "def create_matrix(X, k):\n",
        "  '''\n",
        "  X: an m by 1 array \n",
        "  '''\n",
        "  new_X = None\n",
        "  ### START CODE HERE ###\n",
        "  m = X.shape[0]\n",
        "  new_X = np.ones((m, k+1))\n",
        "  for i in range(1, k+1):\n",
        "    new_X[:, i] = X**i\n",
        "  ### END CODE HERE ###\n",
        "  return new_X"
      ]
    },
    {
      "cell_type": "markdown",
      "metadata": {
        "id": "WCTuye7C5Aq3"
      },
      "source": [
        "## Validate Model\n",
        "\n",
        "Now, we want to train our model for every value of `k`. You can use any of the methods that we used in **Question 1** (gradient descent or direct calculation) for this purpose. The following function trains our model on the training set for a given value of `k`, and then returns the loss on the training set and validation set, as well as the weight vector `w`."
      ]
    },
    {
      "cell_type": "code",
      "execution_count": null,
      "metadata": {
        "id": "9lfWITgf7yQH"
      },
      "outputs": [],
      "source": [
        "# If you need any other function for training write it here\n",
        "# (like gradient descent or anything else)\n",
        "def direct_method(X, Y):\n",
        "  '''\n",
        "  X: an m by (n+1) matrix which includes inputs\n",
        "  Y: an m by 1 vector which includes heating loads\n",
        "  '''\n",
        "  w = None\n",
        "  ### START CODE HERE ###\n",
        "  Xt = np.transpose(X)\n",
        "  w = np.matmul(Xt ,X)\n",
        "  w = np.linalg.inv(w)\n",
        "  w = np.matmul(w, Xt)\n",
        "  w = np.matmul(w, Y)\n",
        "  ### END CODE HERE ###\n",
        "  return w\n",
        "def loss(X, Y, w):\n",
        "  '''\n",
        "  X: an m by (n+1) matrix which includes inputs\n",
        "  Y: an m by 1 vector which includes heating loads\n",
        "  w: an (n+1) by 1 weight vector\n",
        "  '''\n",
        "  m, n = X.shape\n",
        "  loss = None\n",
        "  ### START CODE HERE ###\n",
        "  wt = np.transpose(w)\n",
        "  Xt = np.transpose(X)\n",
        "  vec = np.matmul(wt, Xt) - np.transpose(Y)\n",
        "  vec = np.power(vec, 2)\n",
        "  loss = np.sum(vec) / m\n",
        "  ### END CODE HERE ###\n",
        "  return loss"
      ]
    },
    {
      "cell_type": "code",
      "execution_count": null,
      "metadata": {
        "id": "JaIs631q508z"
      },
      "outputs": [],
      "source": [
        "def train(X_train, Y_train, X_val, Y_val, k):\n",
        "  '''\n",
        "  X_train: an m_train by 1 vector contains training points\n",
        "  Y_train: an m_train by 1 vector contains training values\n",
        "  X_val: an m_val by 1 vector contains validation points\n",
        "  Y_val: an m_val by 1 vector contains validation values\n",
        "  k: degree of polynomial\n",
        "  '''\n",
        "  w, loss_train, loss_val = None, None, None\n",
        "  ### START CODE HERE ###\n",
        "  X_trainp = create_matrix(X_train ,k)\n",
        "  X_valp = create_matrix(X_val ,k)\n",
        "  w = direct_method(X_trainp, Y_train)\n",
        "  loss_train = loss(X_trainp, Y_train, w)\n",
        "  loss_val = loss(X_valp, Y_val, w)\n",
        "  ### END CODE HERE ###\n",
        "  return w, loss_train, loss_val"
      ]
    },
    {
      "cell_type": "markdown",
      "metadata": {
        "id": "eAsZfxCu6YEf"
      },
      "source": [
        "In the cell below, you can change the value of `k` between 1 and 12 and plot the loss on the training and validation set as a function of `k` in the same plot.\n",
        "\n",
        "**Question**: Discuss about the effect of $k$.\n",
        "\n",
        "**Answer**: as $k$ increases loss of train data decreases and the changes on validation data is seen in the figure. It mostly decreases by increase in $k$. I thing best value for $k$ is 8. "
      ]
    },
    {
      "cell_type": "code",
      "execution_count": null,
      "metadata": {
        "id": "knUTXtOv66Wx",
        "colab": {
          "base_uri": "https://localhost:8080/",
          "height": 452
        },
        "outputId": "b5c00bd0-9a44-418f-c997-b927d81a9de8"
      },
      "outputs": [
        {
          "output_type": "display_data",
          "data": {
            "text/plain": [
              "<Figure size 640x480 with 2 Axes>"
            ],
            "image/png": "[encoded data removed]"
          },
          "metadata": {}
        }
      ],
      "source": [
        "### START CODE HERE ###\n",
        "fig, axs = plt.subplots(2)\n",
        "axs[0].set_title('loss train')\n",
        "axs[1].set_title('loss validation')\n",
        "for k in range(1, 13):\n",
        "  w, loss_train, loss_val = train(X_train, Y_train, X_val, Y_val, k)\n",
        "  axs[0].scatter(k, loss_train)\n",
        "  axs[1].scatter(k, loss_val)\n",
        "### END CODE HERE ###"
      ]
    },
    {
      "cell_type": "markdown",
      "metadata": {
        "id": "K0M1d2Ez7JLJ"
      },
      "source": [
        "## Evaluating Model\n",
        "\n",
        "In the cell below find the loss of your best model on the test set.\n",
        "\n",
        "**Question**: Why we need test set?\n",
        "\n",
        "**Answer**: The test set is used to evaluate the performance of the model after it has been trained and tuned using the training and validation sets. It provides an unbiased estimate of the model's performance on new, unseen data. Without a test set, there is a risk of overfitting to the training and validation data, which can lead to poor generalization performance on new data. The test set allows us to assess whether our model has learned meaningful patterns in the data or simply memorized the training examples."
      ]
    },
    {
      "cell_type": "code",
      "execution_count": null,
      "metadata": {
        "id": "Ex1P5H0A7emE",
        "colab": {
          "base_uri": "https://localhost:8080/"
        },
        "outputId": "0d528380-a1b2-4b68-fcd6-f4ffbfbd0478"
      },
      "outputs": [
        {
          "output_type": "stream",
          "name": "stdout",
          "text": [
            "loss of test data :  0.6092695916785471\n"
          ]
        }
      ],
      "source": [
        "### START CODE HERE ###\n",
        "loss_test = loss(create_matrix(X_test, k), Y_test, w)\n",
        "print('loss of test data : ', loss_test)\n",
        "### END CODE HERE ###"
      ]
    }
  ],
  "metadata": {
    "colab": {
      "provenance": [],
      "include_colab_link": true
    },
    "kernelspec": {
      "display_name": "Python 3",
      "name": "python3"
    },
    "language_info": {
      "name": "python"
    }
  },
  "nbformat": 4,
  "nbformat_minor": 0
}